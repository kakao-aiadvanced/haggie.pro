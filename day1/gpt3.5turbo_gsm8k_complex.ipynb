{
 "cells": [
  {
   "cell_type": "markdown",
   "id": "c4c3dffb-98fa-4d14-98ef-80c38d290e1b",
   "metadata": {},
   "source": [
    "# GPT-3.5-Turbo on GSM8K"
   ]
  },
  {
   "cell_type": "code",
   "execution_count": 68,
   "id": "2f7c15ca-974a-49aa-8212-d9b6730df39a",
   "metadata": {
    "tags": []
   },
   "outputs": [],
   "source": [
    "import openai\n",
    "import re\n",
    "import time\n",
    "\n",
    "import numpy as np\n",
    "\n",
    "from tqdm import tqdm\n",
    "from datasets import load_dataset"
   ]
  },
  {
   "cell_type": "code",
   "execution_count": 69,
   "id": "b63ddea4-8a1a-4629-9aa6-efdd47bf5e4a",
   "metadata": {
    "tags": []
   },
   "outputs": [],
   "source": [
    "openai.api_key = \"sk-\""
   ]
  },
  {
   "cell_type": "code",
   "execution_count": 70,
   "id": "6032026c-70fc-4ba8-b353-fd3ecf78eb00",
   "metadata": {
    "tags": []
   },
   "outputs": [],
   "source": [
    "gsm8k = load_dataset('gsm8k', 'main')\n",
    "validation_index = np.load('../gsm8k/lib_prompt/validation_index.npy')\n",
    "validation_data = gsm8k['train'].select(validation_index)\n",
    "gsm8k_test = gsm8k['test']"
   ]
  },
  {
   "cell_type": "code",
   "execution_count": 16,
   "id": "99da2222-207e-4d78-91a6-527af94c9afd",
   "metadata": {
    "tags": []
   },
   "outputs": [
    {
     "data": {
      "text/plain": [
       "'Natalia sold clips to 48 of her friends in April, and then she sold half as many clips in May. How many clips did Natalia sell altogether in April and May?'"
      ]
     },
     "execution_count": 16,
     "metadata": {},
     "output_type": "execute_result"
    }
   ],
   "source": [
    "gsm8k['train'][0]['question']"
   ]
  },
  {
   "cell_type": "code",
   "execution_count": 17,
   "id": "0aebf3f1-ff3a-458d-bdd4-42357aafaf20",
   "metadata": {
    "tags": []
   },
   "outputs": [],
   "source": [
    "gsm8k_test = gsm8k['test']"
   ]
  },
  {
   "cell_type": "code",
   "execution_count": 18,
   "id": "ca22a6a6-73b4-49dd-bf78-1e7b8d93c58f",
   "metadata": {
    "tags": []
   },
   "outputs": [],
   "source": [
    "prompt_complex = open('../gsm8k/lib_prompt/prompt_hardest.txt').read()"
   ]
  },
  {
   "cell_type": "code",
   "execution_count": 19,
   "id": "326b98c1-5b9b-41c2-a15b-f676a6814a7a",
   "metadata": {
    "scrolled": true,
    "tags": []
   },
   "outputs": [
    {
     "name": "stdout",
     "output_type": "stream",
     "text": [
      "Question: Angelo and Melanie want to plan how many hours over the next week they should study together for their test next week. They have 2 chapters of their textbook to study and 4 worksheets to memorize. They figure out that they should dedicate 3 hours to each chapter of their textbook and 1.5 hours for each worksheet. If they plan to study no more than 4 hours each day, how many days should they plan to study total over the next week if they take a 10-minute break every hour, include 3 10-minute snack breaks each day, and 30 minutes for lunch each day?\n",
      "Let's think step by step\n",
      "Angelo and Melanie think they should dedicate 3 hours to each of the 2 chapters, 3 hours x 2 chapters = 6 hours total.\n",
      "For the worksheets they plan to dedicate 1.5 hours for each worksheet, 1.5 hours x 4 worksheets = 6 hours total.\n",
      "Angelo and Melanie need to start with planning 12 hours to study, at 4 hours a day, 12 / 4 = 3 days.\n",
      "However, they need to include time for breaks and lunch. Every hour they want to include a 10-minute break, so 12 total hours x 10 minutes = 120 extra minutes for breaks.\n",
      "They also want to include 3 10-minute snack breaks, 3 x 10 minutes = 30 minutes.\n",
      "And they want to include 30 minutes for lunch each day, so 120 minutes for breaks + 30 minutes for snack breaks + 30 minutes for lunch = 180 minutes, or 180 / 60 minutes per hour = 3 extra hours.\n",
      "So Angelo and Melanie want to plan 12 hours to study + 3 hours of breaks = 15 hours total.\n",
      "They want to study no more than 4 hours each day, 15 hours / 4 hours each day = 3.75\n",
      "They will need to plan to study 4 days to allow for all the time they need.\n",
      "The answer is 4\n",
      "\n",
      "Question: Mark's basketball team scores 25 2 pointers, 8 3 pointers and 10 free throws.  Their opponents score double the 2 pointers but half the 3 pointers and free throws.  What's the total number of points scored by both teams added together?\n",
      "Let's think step by step\n",
      "Mark's team scores 25 2 pointers, meaning they scored 25*2= 50 points in 2 pointers.\n",
      "His team also scores 6 3 pointers, meaning they scored 8*3= 24 points in 3 pointers\n",
      "They scored 10 free throws, and free throws count as one point so they scored 10*1=10 points in free throws.\n",
      "All together his team scored 50+24+10= 84 points\n",
      "Mark's opponents scored double his team's number of 2 pointers, meaning they scored 50*2=100 points in 2 pointers.\n",
      "His opponents scored half his team's number of 3 pointers, meaning they scored 24/2= 12 points in 3 pointers.\n",
      "They also scored half Mark's team's points in free throws, meaning they scored 10/2=5 points in free throws.\n",
      "All together Mark's opponents scored 100+12+5=117 points\n",
      "The total score for the game is both team's scores added together, so it is 84+117=201 points\n",
      "The answer is 201\n",
      "\n",
      "Question: Bella has two times as many marbles as frisbees. She also has 20 more frisbees than deck cards. If she buys 2/5 times more of each item, what would be the total number of the items she will have if she currently has 60 marbles?\n",
      "Let's think step by step\n",
      "When Bella buys 2/5 times more marbles, she'll have increased the number of marbles by 2/5*60 = 24\n",
      "The total number of marbles she'll have is 60+24 = 84\n",
      "If Bella currently has 60 marbles, and she has two times as many marbles as frisbees, she has 60/2 = 30 frisbees.\n",
      "If Bella buys 2/5 times more frisbees, she'll have 2/5*30 = 12 more frisbees.\n",
      "The total number of frisbees she'll have will increase to 30+12 = 42\n",
      "Bella also has 20 more frisbees than deck cards, meaning she has 30-20 = 10 deck cards\n",
      "If she buys 2/5 times more deck cards, she'll have 2/5*10 = 4 more deck cards.\n",
      "The total number of deck cards she'll have is 10+4 = 14\n",
      "Together, Bella will have a total of 14+42+84 = 140 items\n",
      "The answer is 140\n",
      "\n",
      "Question: A group of 4 fruit baskets contains 9 apples, 15 oranges, and 14 bananas in the first three baskets and 2 less of each fruit in the fourth basket. How many fruits are there?\n",
      "Let's think step by step\n",
      "For the first three baskets, the number of apples and oranges in one basket is 9+15=24\n",
      "In total, together with bananas, the number of fruits in one basket is 24+14=38 for the first three baskets.\n",
      "Since there are three baskets each having 38 fruits, there are 3*38=114 fruits in the first three baskets.\n",
      "The number of apples in the fourth basket is 9-2=7\n",
      "There are also 15-2=13 oranges in the fourth basket\n",
      "The combined number of oranges and apples in the fourth basket is 13+7=20\n",
      "The fourth basket also contains 14-2=12 bananas.\n",
      "In total, the fourth basket has 20+12=32 fruits.\n",
      "The four baskets together have 32+114=146 fruits.\n",
      "The answer is 146\n",
      "\n",
      "Question: You can buy 4 apples or 1 watermelon for the same price. You bought 36 fruits evenly split between oranges, apples and watermelons, and the price of 1 orange is $0.50. How much does 1 apple cost if your total bill was $66?\n",
      "Let's think step by step\n",
      "If 36 fruits were evenly split between 3 types of fruits, then I bought 36/3 = 12 units of each fruit\n",
      "If 1 orange costs $0.50 then 12 oranges will cost $0.50 * 12 = $6\n",
      "If my total bill was $66 and I spent $6 on oranges then I spent $66 - $6 = $60 on the other 2 fruit types.\n",
      "Assuming the price of watermelon is W, and knowing that you can buy 4 apples for the same price and that the price of one apple is A, then 1W=4A\n",
      "If we know we bought 12 watermelons and 12 apples for $60, then we know that $60 = 12W + 12A\n",
      "Knowing that 1W=4A, then we can convert the above to $60 = 12(4A) + 12A\n",
      "$60 = 48A + 12A\n",
      "$60 = 60A\n",
      "Then we know the price of one apple (A) is $60/60= $1\n",
      "The answer is 1\n",
      "\n",
      "Question: Susy goes to a large school with 800 students, while Sarah goes to a smaller school with only 300 students.  At the start of the school year, Susy had 100 social media followers.  She gained 40 new followers in the first week of the school year, half that in the second week, and half of that in the third week.  Sarah only had 50 social media followers at the start of the year, but she gained 90 new followers the first week, a third of that in the second week, and a third of that in the third week.  After three weeks, how many social media followers did the girl with the most total followers have?\n",
      "Let's think step by step\n",
      "After one week, Susy has 100+40 = 140 followers.\n",
      "In the second week, Susy gains 40/2 = 20 new followers.\n",
      "In the third week, Susy gains 20/2 = 10 new followers.\n",
      "In total, Susy finishes the three weeks with 140+20+10 = 170 total followers.\n",
      "After one week, Sarah has 50+90 = 140 followers.\n",
      "After the second week, Sarah gains 90/3 = 30 followers.\n",
      "After the third week, Sarah gains 30/3 = 10 followers.\n",
      "So, Sarah finishes the three weeks with 140+30+10 = 180 total followers.\n",
      "Thus, Sarah is the girl with the most total followers with a total of 180.\n",
      "The answer is 180\n",
      "\n",
      "Question: Sam bought a dozen boxes, each with 30 highlighter pens inside, for $10 each box. He rearranged five of these boxes into packages of six highlighters each and sold them for $3 per package. He sold the rest of the highlighters separately at the rate of three pens for $2. How much profit did he make in total, in dollars?\n",
      "Let's think step by step\n",
      "Sam bought 12 boxes x $10 = $120 worth of highlighters.\n",
      "He bought 12 * 30 = 360 highlighters in total.\n",
      "Sam then took 5 boxes × 6 highlighters/box = 30 highlighters.\n",
      "He sold these boxes for 5 * $3 = $15\n",
      "After selling these 5 boxes there were 360 - 30 = 330 highlighters remaining.\n",
      "These form 330 / 3 = 110 groups of three pens.\n",
      "He sold each of these groups for $2 each, so made 110 * 2 = $220 from them.\n",
      "In total, then, he earned $220 + $15 = $235.\n",
      "Since his original cost was $120, he earned $235 - $120 = $115 in profit.\n",
      "The answer is 115\n",
      "\n",
      "Question: In a certain school, 2/3 of the male students like to play basketball, but only 1/5 of the female students like to play basketball. What percent of the population of the school do not like to play basketball if the ratio of the male to female students is 3:2 and there are 1000 students?\n",
      "Let's think step by step\n",
      "The students are divided into 3 + 2 = 5 parts where 3 parts are for males and 2 parts are for females.\n",
      "Each part represents 1000/5 = 200 students.\n",
      "So, there are 3 x 200 = 600 males.\n",
      "And there are 2 x 200 = 400 females.\n",
      "Hence, 600 x 2/3 = 400 males play basketball.\n",
      "And 400 x 1/5 = 80 females play basketball.\n",
      "A total of 400 + 80 = 480 students play basketball.\n",
      "Therefore, 1000 - 480 = 520 do not like to play basketball.\n",
      "The percentage of the school that do not like to play basketball is 520/1000 * 100 = 52\n",
      "The answer is 52\n",
      "\n"
     ]
    }
   ],
   "source": [
    "print(prompt_complex)"
   ]
  },
  {
   "cell_type": "code",
   "execution_count": 20,
   "id": "e1e5d04e-ce12-4407-a150-4692c20ff4b0",
   "metadata": {
    "tags": []
   },
   "outputs": [],
   "source": [
    "from tenacity import (\n",
    "    retry,\n",
    "    stop_after_attempt,\n",
    "    wait_chain,\n",
    "    wait_fixed\n",
    ") \n",
    "\n",
    "@retry(wait=wait_chain(*[wait_fixed(3) for i in range(3)] +\n",
    "                       [wait_fixed(5) for i in range(2)] +\n",
    "                       [wait_fixed(10)]))\n",
    "def completion_with_backoff(**kwargs):\n",
    "    return openai.chat.completions.create(**kwargs)"
   ]
  },
  {
   "cell_type": "code",
   "execution_count": 21,
   "id": "1204557b-25f8-458c-a95b-3e2db046595c",
   "metadata": {
    "tags": []
   },
   "outputs": [],
   "source": [
    "def test_answer(pred_str, ans_str):\n",
    "    pattern = '\\d*\\.?\\d+'\n",
    "    pred = re.findall(pattern, pred_str)\n",
    "    if(len(pred) >= 1):\n",
    "        # print(pred_str)\n",
    "        pred = pred[-1]\n",
    "        gold = re.findall(pattern, ans_str)\n",
    "        # print(ans_str)\n",
    "        gold = gold[-1]\n",
    "        return pred == gold\n",
    "    else: return False\n",
    "\n",
    "def parse_pred_ans(filename):\n",
    "    with open(filename) as fd: lines = fd.readlines()\n",
    "    am, a = None, None\n",
    "    num_q, acc = 0, 0\n",
    "    current_mode = 'none'\n",
    "    questions = []\n",
    "    ans_pred = []\n",
    "    ans_gold = []\n",
    "    for l in lines:\n",
    "        if(l.startswith('Q: ')):\n",
    "            if(am is not None and a is not None):\n",
    "                questions.append(q)\n",
    "                ans_pred.append(am)\n",
    "                ans_gold.append(a)\n",
    "                if(test_answer(am, a)):\n",
    "                    acc += 1\n",
    "            current_mode = 'q'\n",
    "            q = l\n",
    "            num_q += 1\n",
    "        elif(l.startswith('A_model:')):\n",
    "            current_mode = 'am'\n",
    "            am = l\n",
    "        elif(l.startswith('A:')):\n",
    "            current_mode = 'a'\n",
    "            a = l\n",
    "        else:\n",
    "            if(current_mode == 'q'): q += l\n",
    "            elif(current_mode == 'am'): am += l\n",
    "            elif(current_mode == 'a'): a += l\n",
    "            else:\n",
    "                raise ValueError(current_mode)\n",
    "                \n",
    "    questions.append(q)\n",
    "    ans_pred.append(am)\n",
    "    ans_gold.append(a)\n",
    "    if(test_answer(am, a)):\n",
    "        acc += 1\n",
    "    print('num_q %d correct %d ratio %.4f' % (num_q, acc, float(acc / num_q)))\n",
    "    return questions, ans_pred, ans_gold\n",
    "\n",
    "def test_finished(ans_model):\n",
    "    if('answer is' in ans_model): return True\n",
    "    else: return False\n",
    "\n",
    "def extract_ans(ans_model):\n",
    "    ans_model = ans_model.split('\\n')\n",
    "    ans = []\n",
    "    residual = []\n",
    "    for li, al in enumerate(ans_model):\n",
    "        ans.append(al)\n",
    "        if('answer is' in al):\n",
    "            break\n",
    "    residual = list(ans_model[li + 1:])\n",
    "    ans = '\\n'.join(ans)\n",
    "    residual = '\\n'.join(residual)\n",
    "    return ans, residual"
   ]
  },
  {
   "cell_type": "code",
   "execution_count": 22,
   "id": "44e7f8ce-f9e7-4c04-96fa-066c023ba4cc",
   "metadata": {
    "tags": []
   },
   "outputs": [],
   "source": [
    "prompt_q = prompt_complex + '\\nQuestion: ' + gsm8k_test[1]['question'] + '\\n'"
   ]
  },
  {
   "cell_type": "code",
   "execution_count": 23,
   "id": "54e82439-47e4-4e72-ad44-e479c9db3b1b",
   "metadata": {
    "scrolled": true,
    "tags": []
   },
   "outputs": [
    {
     "name": "stdout",
     "output_type": "stream",
     "text": [
      "Question: Angelo and Melanie want to plan how many hours over the next week they should study together for their test next week. They have 2 chapters of their textbook to study and 4 worksheets to memorize. They figure out that they should dedicate 3 hours to each chapter of their textbook and 1.5 hours for each worksheet. If they plan to study no more than 4 hours each day, how many days should they plan to study total over the next week if they take a 10-minute break every hour, include 3 10-minute snack breaks each day, and 30 minutes for lunch each day?\n",
      "Let's think step by step\n",
      "Angelo and Melanie think they should dedicate 3 hours to each of the 2 chapters, 3 hours x 2 chapters = 6 hours total.\n",
      "For the worksheets they plan to dedicate 1.5 hours for each worksheet, 1.5 hours x 4 worksheets = 6 hours total.\n",
      "Angelo and Melanie need to start with planning 12 hours to study, at 4 hours a day, 12 / 4 = 3 days.\n",
      "However, they need to include time for breaks and lunch. Every hour they want to include a 10-minute break, so 12 total hours x 10 minutes = 120 extra minutes for breaks.\n",
      "They also want to include 3 10-minute snack breaks, 3 x 10 minutes = 30 minutes.\n",
      "And they want to include 30 minutes for lunch each day, so 120 minutes for breaks + 30 minutes for snack breaks + 30 minutes for lunch = 180 minutes, or 180 / 60 minutes per hour = 3 extra hours.\n",
      "So Angelo and Melanie want to plan 12 hours to study + 3 hours of breaks = 15 hours total.\n",
      "They want to study no more than 4 hours each day, 15 hours / 4 hours each day = 3.75\n",
      "They will need to plan to study 4 days to allow for all the time they need.\n",
      "The answer is 4\n",
      "\n",
      "Question: Mark's basketball team scores 25 2 pointers, 8 3 pointers and 10 free throws.  Their opponents score double the 2 pointers but half the 3 pointers and free throws.  What's the total number of points scored by both teams added together?\n",
      "Let's think step by step\n",
      "Mark's team scores 25 2 pointers, meaning they scored 25*2= 50 points in 2 pointers.\n",
      "His team also scores 6 3 pointers, meaning they scored 8*3= 24 points in 3 pointers\n",
      "They scored 10 free throws, and free throws count as one point so they scored 10*1=10 points in free throws.\n",
      "All together his team scored 50+24+10= 84 points\n",
      "Mark's opponents scored double his team's number of 2 pointers, meaning they scored 50*2=100 points in 2 pointers.\n",
      "His opponents scored half his team's number of 3 pointers, meaning they scored 24/2= 12 points in 3 pointers.\n",
      "They also scored half Mark's team's points in free throws, meaning they scored 10/2=5 points in free throws.\n",
      "All together Mark's opponents scored 100+12+5=117 points\n",
      "The total score for the game is both team's scores added together, so it is 84+117=201 points\n",
      "The answer is 201\n",
      "\n",
      "Question: Bella has two times as many marbles as frisbees. She also has 20 more frisbees than deck cards. If she buys 2/5 times more of each item, what would be the total number of the items she will have if she currently has 60 marbles?\n",
      "Let's think step by step\n",
      "When Bella buys 2/5 times more marbles, she'll have increased the number of marbles by 2/5*60 = 24\n",
      "The total number of marbles she'll have is 60+24 = 84\n",
      "If Bella currently has 60 marbles, and she has two times as many marbles as frisbees, she has 60/2 = 30 frisbees.\n",
      "If Bella buys 2/5 times more frisbees, she'll have 2/5*30 = 12 more frisbees.\n",
      "The total number of frisbees she'll have will increase to 30+12 = 42\n",
      "Bella also has 20 more frisbees than deck cards, meaning she has 30-20 = 10 deck cards\n",
      "If she buys 2/5 times more deck cards, she'll have 2/5*10 = 4 more deck cards.\n",
      "The total number of deck cards she'll have is 10+4 = 14\n",
      "Together, Bella will have a total of 14+42+84 = 140 items\n",
      "The answer is 140\n",
      "\n",
      "Question: A group of 4 fruit baskets contains 9 apples, 15 oranges, and 14 bananas in the first three baskets and 2 less of each fruit in the fourth basket. How many fruits are there?\n",
      "Let's think step by step\n",
      "For the first three baskets, the number of apples and oranges in one basket is 9+15=24\n",
      "In total, together with bananas, the number of fruits in one basket is 24+14=38 for the first three baskets.\n",
      "Since there are three baskets each having 38 fruits, there are 3*38=114 fruits in the first three baskets.\n",
      "The number of apples in the fourth basket is 9-2=7\n",
      "There are also 15-2=13 oranges in the fourth basket\n",
      "The combined number of oranges and apples in the fourth basket is 13+7=20\n",
      "The fourth basket also contains 14-2=12 bananas.\n",
      "In total, the fourth basket has 20+12=32 fruits.\n",
      "The four baskets together have 32+114=146 fruits.\n",
      "The answer is 146\n",
      "\n",
      "Question: You can buy 4 apples or 1 watermelon for the same price. You bought 36 fruits evenly split between oranges, apples and watermelons, and the price of 1 orange is $0.50. How much does 1 apple cost if your total bill was $66?\n",
      "Let's think step by step\n",
      "If 36 fruits were evenly split between 3 types of fruits, then I bought 36/3 = 12 units of each fruit\n",
      "If 1 orange costs $0.50 then 12 oranges will cost $0.50 * 12 = $6\n",
      "If my total bill was $66 and I spent $6 on oranges then I spent $66 - $6 = $60 on the other 2 fruit types.\n",
      "Assuming the price of watermelon is W, and knowing that you can buy 4 apples for the same price and that the price of one apple is A, then 1W=4A\n",
      "If we know we bought 12 watermelons and 12 apples for $60, then we know that $60 = 12W + 12A\n",
      "Knowing that 1W=4A, then we can convert the above to $60 = 12(4A) + 12A\n",
      "$60 = 48A + 12A\n",
      "$60 = 60A\n",
      "Then we know the price of one apple (A) is $60/60= $1\n",
      "The answer is 1\n",
      "\n",
      "Question: Susy goes to a large school with 800 students, while Sarah goes to a smaller school with only 300 students.  At the start of the school year, Susy had 100 social media followers.  She gained 40 new followers in the first week of the school year, half that in the second week, and half of that in the third week.  Sarah only had 50 social media followers at the start of the year, but she gained 90 new followers the first week, a third of that in the second week, and a third of that in the third week.  After three weeks, how many social media followers did the girl with the most total followers have?\n",
      "Let's think step by step\n",
      "After one week, Susy has 100+40 = 140 followers.\n",
      "In the second week, Susy gains 40/2 = 20 new followers.\n",
      "In the third week, Susy gains 20/2 = 10 new followers.\n",
      "In total, Susy finishes the three weeks with 140+20+10 = 170 total followers.\n",
      "After one week, Sarah has 50+90 = 140 followers.\n",
      "After the second week, Sarah gains 90/3 = 30 followers.\n",
      "After the third week, Sarah gains 30/3 = 10 followers.\n",
      "So, Sarah finishes the three weeks with 140+30+10 = 180 total followers.\n",
      "Thus, Sarah is the girl with the most total followers with a total of 180.\n",
      "The answer is 180\n",
      "\n",
      "Question: Sam bought a dozen boxes, each with 30 highlighter pens inside, for $10 each box. He rearranged five of these boxes into packages of six highlighters each and sold them for $3 per package. He sold the rest of the highlighters separately at the rate of three pens for $2. How much profit did he make in total, in dollars?\n",
      "Let's think step by step\n",
      "Sam bought 12 boxes x $10 = $120 worth of highlighters.\n",
      "He bought 12 * 30 = 360 highlighters in total.\n",
      "Sam then took 5 boxes × 6 highlighters/box = 30 highlighters.\n",
      "He sold these boxes for 5 * $3 = $15\n",
      "After selling these 5 boxes there were 360 - 30 = 330 highlighters remaining.\n",
      "These form 330 / 3 = 110 groups of three pens.\n",
      "He sold each of these groups for $2 each, so made 110 * 2 = $220 from them.\n",
      "In total, then, he earned $220 + $15 = $235.\n",
      "Since his original cost was $120, he earned $235 - $120 = $115 in profit.\n",
      "The answer is 115\n",
      "\n",
      "Question: In a certain school, 2/3 of the male students like to play basketball, but only 1/5 of the female students like to play basketball. What percent of the population of the school do not like to play basketball if the ratio of the male to female students is 3:2 and there are 1000 students?\n",
      "Let's think step by step\n",
      "The students are divided into 3 + 2 = 5 parts where 3 parts are for males and 2 parts are for females.\n",
      "Each part represents 1000/5 = 200 students.\n",
      "So, there are 3 x 200 = 600 males.\n",
      "And there are 2 x 200 = 400 females.\n",
      "Hence, 600 x 2/3 = 400 males play basketball.\n",
      "And 400 x 1/5 = 80 females play basketball.\n",
      "A total of 400 + 80 = 480 students play basketball.\n",
      "Therefore, 1000 - 480 = 520 do not like to play basketball.\n",
      "The percentage of the school that do not like to play basketball is 520/1000 * 100 = 52\n",
      "The answer is 52\n",
      "\n",
      "Question: A robe takes 2 bolts of blue fiber and half that much white fiber.  How many bolts in total does it take?\n",
      "\n"
     ]
    }
   ],
   "source": [
    "print(prompt_q)"
   ]
  },
  {
   "cell_type": "code",
   "execution_count": 24,
   "id": "d6597b15-0a08-4ff7-b8b1-ba090cd91e16",
   "metadata": {
    "tags": []
   },
   "outputs": [],
   "source": [
    "response = openai.chat.completions.create(\n",
    "  model=\"gpt-3.5-turbo\",\n",
    "  messages=[\n",
    "        {\"role\": \"system\", \"content\": \"Follow the given examples and answer the question.\"},\n",
    "        {\"role\": \"user\", \"content\": prompt_q},\n",
    "    ]\n",
    ")"
   ]
  },
  {
   "cell_type": "code",
   "execution_count": 25,
   "id": "46225b43-db46-4cd6-8ac6-98c41a2f0506",
   "metadata": {
    "tags": []
   },
   "outputs": [
    {
     "data": {
      "text/plain": [
       "'It takes 2 bolts of blue fiber and half that much white fiber, so it takes 2 + (1/2)*2 = 3 bolts in total. \\n\\nThe answer is 3 bolts.'"
      ]
     },
     "execution_count": 25,
     "metadata": {},
     "output_type": "execute_result"
    }
   ],
   "source": [
    "response.choices[0].message.content"
   ]
  },
  {
   "cell_type": "code",
   "execution_count": 26,
   "id": "14ca497f-efaa-4410-afaf-4f70e1e37605",
   "metadata": {
    "tags": []
   },
   "outputs": [
    {
     "name": "stdout",
     "output_type": "stream",
     "text": [
      "It takes 2 bolts of blue fiber and half that much white fiber, so it takes 2 + (1/2)*2 = 3 bolts in total. \n",
      "\n",
      "The answer is 3 bolts.\n"
     ]
    }
   ],
   "source": [
    "print(response.choices[0].message.content)"
   ]
  },
  {
   "cell_type": "markdown",
   "id": "bfb3e426-9907-4d73-81d5-3ba0898380ef",
   "metadata": {},
   "source": [
    "# compress 안함"
   ]
  },
  {
   "cell_type": "code",
   "execution_count": 37,
   "id": "329eaf72-c549-453d-9a4c-7e1ab32400c2",
   "metadata": {
    "tags": []
   },
   "outputs": [
    {
     "name": "stderr",
     "output_type": "stream",
     "text": [
      "  1%|▏        | 19/1319 [00:59<1:08:24,  3.16s/it]\n"
     ]
    }
   ],
   "source": [
    "i = 0\n",
    "with open('outputs/test_gpt_3.5_turbo_complex.txt', 'w') as fd:\n",
    "    for q, a in tqdm(zip(gsm8k_test['question'], gsm8k_test['answer']), \n",
    "                               total=len(gsm8k_test['question'])):\n",
    "        \n",
    "        prompt_q = prompt_complex + '\\nQuestion: ' + q + '\\n'  \n",
    "        \n",
    "        response = completion_with_backoff(\n",
    "              model=\"gpt-3.5-turbo\",\n",
    "              messages=[\n",
    "                    {\"role\": \"system\", \"content\": \"Follow the given examples and answer the question.\"},\n",
    "                    {\"role\": \"user\", \"content\": prompt_q},\n",
    "                ]\n",
    "            )\n",
    "        ans_model = response.choices[0].message.content\n",
    "        ans_, residual = extract_ans(ans_model)\n",
    "            \n",
    "        fd.write('Q: %s\\nA_model:\\n%s\\nA:\\n%s\\n\\n' % (q, ans_, a))\n",
    "        i += 1\n",
    "        if(i == 20): break"
   ]
  },
  {
   "cell_type": "code",
   "execution_count": 38,
   "id": "efef9d01-229f-4b68-8ff7-bb1d9fca80ba",
   "metadata": {
    "tags": []
   },
   "outputs": [
    {
     "name": "stdout",
     "output_type": "stream",
     "text": [
      "num_q 20 correct 10 ratio 0.5000\n"
     ]
    }
   ],
   "source": [
    "_, _, _ = parse_pred_ans('outputs/test_gpt_3.5_turbo_complex.txt')"
   ]
  },
  {
   "cell_type": "markdown",
   "id": "c38df20b-66d9-4d78-88b1-1dd90b54ced8",
   "metadata": {},
   "source": [
    "# compress 함"
   ]
  },
  {
   "cell_type": "code",
   "execution_count": 71,
   "id": "e17ceaa1-42ae-4479-a8f0-e9f69dee5e7e",
   "metadata": {},
   "outputs": [
    {
     "name": "stderr",
     "output_type": "stream",
     "text": [
      "Special tokens have been added in the vocabulary, make sure the associated word embeddings are fine-tuned or trained.\n"
     ]
    }
   ],
   "source": [
    "from llmlingua import PromptCompressor\n",
    "\n",
    "llm_lingua = PromptCompressor(\"Qwen/Qwen2-0.5B\", device_map=\"cpu\")"
   ]
  },
  {
   "cell_type": "code",
   "execution_count": 73,
   "id": "f4e4083d-9c1b-494e-9f3f-ae86a5538e54",
   "metadata": {},
   "outputs": [
    {
     "name": "stderr",
     "output_type": "stream",
     "text": [
      "  0%|                                    | 0/1319 [00:00<?, ?it/s]"
     ]
    },
    {
     "name": "stdout",
     "output_type": "stream",
     "text": [
      "CCC\n",
      " {'compressed_prompt': \": day?\\n's step\\n Melanie chapters,3 hours total.\\n worksheets they.\\nAngelo and Melanie to start with planning 12 hours to study, at 4 day, 23.\\n, they to include for breaks lunch. Every they to include0 break,2 hours0 minutes.\\n3-minute,.\\n 3 lunch  for minutes03So Melanie to hours hours breaks hours.\\nThey to no 4 hours day, 15 hours hours day5\\nThey will to plan to 4 days to for all the they.\\nThe is4\\n\\nQuestion: Mark's step,= points.\\n   pointers\\n, and as point points in free.\\nAll together his team 0+2 points\\n's scored double's of2,  points in.\\n scored4.\\nThey half's.\\n's\\nThe total is both scores soThe: Bellabees than deck cards. If she25 times more of each, what of have she0?\\n's\\n she haveIf she has as have will\\nella more than,00 cards\\n she25 more\\n2+0: A4?\\n step\\n in,, the of in48 the first.\\n baskets of \\n areThe ofTheThe:mel, the1 if6?\\n's6 were3 then I2.\\n of is and price12 then we that022\\n\\n one appleThe: the she0 new a  many girl?\\n,y0, Sarah the.\\n boxes05\\nThese three the?\\n males not like to play basketball is 520/1000 * 100 = 52\\nThe answer is 52\\n\", 'origin_tokens': 2365, 'compressed_tokens': 314, 'ratio': '7.5x', 'rate': '13.3%', 'saving': ', Saving $0.1 in GPT-4.'}\n"
     ]
    },
    {
     "name": "stderr",
     "output_type": "stream",
     "text": [
      "  0%|                         | 1/1319 [00:33<12:24:38, 33.90s/it]"
     ]
    },
    {
     "name": "stdout",
     "output_type": "stream",
     "text": [
      "CCC\n",
      " {'compressed_prompt': \": day?\\n's step\\n Melanie chapters,3 hours total.\\n worksheets they.\\nAngelo and Melanie to start with planning 12 hours to study, at 4 day, 23.\\n, they to include for breaks lunch. Every they to include0 break,2 hours0 minutes.\\n3-minute,.\\n 3 lunch  for minutes03So Melanie to hours hours breaks hours.\\nThey to no 4 hours day, 15 hours hours day5\\nThey will to plan to 4 days to for all the they.\\nThe is4\\n\\nQuestion: Mark's step,= points.\\n   pointers\\n, and as point points in free.\\nAll together his team 0+2 points\\n's scored double's of2,  points in.\\n scored4.\\nThey half's.\\n's\\nThe total is both scores soThe: Bellabees than deck cards. If she25 times more of each, what of have she0?\\n's\\n she haveIf she has as have will\\nella more than,00 cards\\n she25 more\\n2+0: A4?\\n step\\n in,, the of in48 the first.\\n baskets of \\n areThe ofTheThe:mel, the1 if6?\\n's6 were3 then I2.\\n of is and price12 then we that022\\n\\n one appleThe: the she0 new a  many girl?\\n,y0, Sarah the.\\n boxes05\\nThese three the?\\n males not like to play basketball is 520/1000 * 100 = 52\\nThe answer is 52\\n\", 'origin_tokens': 2365, 'compressed_tokens': 314, 'ratio': '7.5x', 'rate': '13.3%', 'saving': ', Saving $0.1 in GPT-4.'}\n"
     ]
    },
    {
     "name": "stderr",
     "output_type": "stream",
     "text": [
      "  0%|                         | 2/1319 [01:03<11:23:12, 31.13s/it]"
     ]
    },
    {
     "name": "stdout",
     "output_type": "stream",
     "text": [
      "CCC\n",
      " {'compressed_prompt': \": day?\\n's step\\n Melanie chapters,3 hours total.\\n worksheets they.\\nAngelo and Melanie to start with planning 12 hours to study, at 4 day, 23.\\n, they to include for breaks lunch. Every they to include0 break,2 hours0 minutes.\\n3-minute,.\\n 3 lunch  for minutes03So Melanie to hours hours breaks hours.\\nThey to no 4 hours day, 15 hours hours day5\\nThey will to plan to 4 days to for all the they.\\nThe is4\\n\\nQuestion: Mark's step,= points.\\n   pointers\\n, and as point points in free.\\nAll together his team 0+2 points\\n's scored double's of2,  points in.\\n scored4.\\nThey half's.\\n's\\nThe total is both scores soThe: Bellabees than deck cards. If she25 times more of each, what of have she0?\\n's\\n she haveIf she has as have will\\nella more than,00 cards\\n she25 more\\n2+0: A4?\\n step\\n in,, the of in48 the first.\\n baskets of \\n areThe ofTheThe:mel, the1 if6?\\n's6 were3 then I2.\\n of is and price12 then we that022\\n\\n one appleThe: the she0 new a  many girl?\\n,y0, Sarah the.\\n boxes05\\nThese three the?\\n males not like to play basketball is 520/1000 * 100 = 52\\nThe answer is 52\\n\", 'origin_tokens': 2365, 'compressed_tokens': 314, 'ratio': '7.5x', 'rate': '13.3%', 'saving': ', Saving $0.1 in GPT-4.'}\n"
     ]
    },
    {
     "name": "stderr",
     "output_type": "stream",
     "text": [
      "  0%|                         | 3/1319 [02:12<17:50:43, 48.82s/it]"
     ]
    },
    {
     "name": "stdout",
     "output_type": "stream",
     "text": [
      "CCC\n",
      " {'compressed_prompt': \": day?\\n's step\\n Melanie chapters,3 hours total.\\n worksheets they.\\nAngelo and Melanie to start with planning 12 hours to study, at 4 day, 23.\\n, they to include for breaks lunch. Every they to include0 break,2 hours0 minutes.\\n3-minute,.\\n 3 lunch  for minutes03So Melanie to hours hours breaks hours.\\nThey to no 4 hours day, 15 hours hours day5\\nThey will to plan to 4 days to for all the they.\\nThe is4\\n\\nQuestion: Mark's step,= points.\\n   pointers\\n, and as point points in free.\\nAll together his team 0+2 points\\n's scored double's of2,  points in.\\n scored4.\\nThey half's.\\n's\\nThe total is both scores soThe: Bellabees than deck cards. If she25 times more of each, what of have she0?\\n's\\n she haveIf she has as have will\\nella more than,00 cards\\n she25 more\\n2+0: A4?\\n step\\n in,, the of in48 the first.\\n baskets of \\n areThe ofTheThe:mel, the1 if6?\\n's6 were3 then I2.\\n of is and price12 then we that022\\n\\n one appleThe: the she0 new a  many girl?\\n,y0, Sarah the.\\n boxes05\\nThese three the?\\n males not like to play basketball is 520/1000 * 100 = 52\\nThe answer is 52\\n\", 'origin_tokens': 2365, 'compressed_tokens': 314, 'ratio': '7.5x', 'rate': '13.3%', 'saving': ', Saving $0.1 in GPT-4.'}\n"
     ]
    },
    {
     "name": "stderr",
     "output_type": "stream",
     "text": [
      "  0%|                         | 4/1319 [02:46<15:37:01, 42.75s/it]"
     ]
    },
    {
     "name": "stdout",
     "output_type": "stream",
     "text": [
      "CCC\n",
      " {'compressed_prompt': \": day?\\n's step\\n Melanie chapters,3 hours total.\\n worksheets they.\\nAngelo and Melanie to start with planning 12 hours to study, at 4 day, 23.\\n, they to include for breaks lunch. Every they to include0 break,2 hours0 minutes.\\n3-minute,.\\n 3 lunch  for minutes03So Melanie to hours hours breaks hours.\\nThey to no 4 hours day, 15 hours hours day5\\nThey will to plan to 4 days to for all the they.\\nThe is4\\n\\nQuestion: Mark's step,= points.\\n   pointers\\n, and as point points in free.\\nAll together his team 0+2 points\\n's scored double's of2,  points in.\\n scored4.\\nThey half's.\\n's\\nThe total is both scores soThe: Bellabees than deck cards. If she25 times more of each, what of have she0?\\n's\\n she haveIf she has as have will\\nella more than,00 cards\\n she25 more\\n2+0: A4?\\n step\\n in,, the of in48 the first.\\n baskets of \\n areThe ofTheThe:mel, the1 if6?\\n's6 were3 then I2.\\n of is and price12 then we that022\\n\\n one appleThe: the she0 new a  many girl?\\n,y0, Sarah the.\\n boxes05\\nThese three the?\\n males not like to play basketball is 520/1000 * 100 = 52\\nThe answer is 52\\n\", 'origin_tokens': 2365, 'compressed_tokens': 314, 'ratio': '7.5x', 'rate': '13.3%', 'saving': ', Saving $0.1 in GPT-4.'}\n"
     ]
    },
    {
     "name": "stderr",
     "output_type": "stream",
     "text": [
      "  0%|                         | 5/1319 [03:21<14:33:09, 39.87s/it]"
     ]
    },
    {
     "name": "stdout",
     "output_type": "stream",
     "text": [
      "CCC\n",
      " {'compressed_prompt': \": day?\\n's step\\n Melanie chapters,3 hours total.\\n worksheets they.\\nAngelo and Melanie to start with planning 12 hours to study, at 4 day, 23.\\n, they to include for breaks lunch. Every they to include0 break,2 hours0 minutes.\\n3-minute,.\\n 3 lunch  for minutes03So Melanie to hours hours breaks hours.\\nThey to no 4 hours day, 15 hours hours day5\\nThey will to plan to 4 days to for all the they.\\nThe is4\\n\\nQuestion: Mark's step,= points.\\n   pointers\\n, and as point points in free.\\nAll together his team 0+2 points\\n's scored double's of2,  points in.\\n scored4.\\nThey half's.\\n's\\nThe total is both scores soThe: Bellabees than deck cards. If she25 times more of each, what of have she0?\\n's\\n she haveIf she has as have will\\nella more than,00 cards\\n she25 more\\n2+0: A4?\\n step\\n in,, the of in48 the first.\\n baskets of \\n areThe ofTheThe:mel, the1 if6?\\n's6 were3 then I2.\\n of is and price12 then we that022\\n\\n one appleThe: the she0 new a  many girl?\\n,y0, Sarah the.\\n boxes05\\nThese three the?\\n males not like to play basketball is 520/1000 * 100 = 52\\nThe answer is 52\\n\", 'origin_tokens': 2365, 'compressed_tokens': 314, 'ratio': '7.5x', 'rate': '13.3%', 'saving': ', Saving $0.1 in GPT-4.'}\n"
     ]
    },
    {
     "name": "stderr",
     "output_type": "stream",
     "text": [
      "  0%|                         | 6/1319 [03:50<13:16:16, 36.39s/it]"
     ]
    },
    {
     "name": "stdout",
     "output_type": "stream",
     "text": [
      "CCC\n",
      " {'compressed_prompt': \": day?\\n's step\\n Melanie chapters,3 hours total.\\n worksheets they.\\nAngelo and Melanie to start with planning 12 hours to study, at 4 day, 23.\\n, they to include for breaks lunch. Every they to include0 break,2 hours0 minutes.\\n3-minute,.\\n 3 lunch  for minutes03So Melanie to hours hours breaks hours.\\nThey to no 4 hours day, 15 hours hours day5\\nThey will to plan to 4 days to for all the they.\\nThe is4\\n\\nQuestion: Mark's step,= points.\\n   pointers\\n, and as point points in free.\\nAll together his team 0+2 points\\n's scored double's of2,  points in.\\n scored4.\\nThey half's.\\n's\\nThe total is both scores soThe: Bellabees than deck cards. If she25 times more of each, what of have she0?\\n's\\n she haveIf she has as have will\\nella more than,00 cards\\n she25 more\\n2+0: A4?\\n step\\n in,, the of in48 the first.\\n baskets of \\n areThe ofTheThe:mel, the1 if6?\\n's6 were3 then I2.\\n of is and price12 then we that022\\n\\n one appleThe: the she0 new a  many girl?\\n,y0, Sarah the.\\n boxes05\\nThese three the?\\n males not like to play basketball is 520/1000 * 100 = 52\\nThe answer is 52\\n\", 'origin_tokens': 2365, 'compressed_tokens': 314, 'ratio': '7.5x', 'rate': '13.3%', 'saving': ', Saving $0.1 in GPT-4.'}\n"
     ]
    },
    {
     "name": "stderr",
     "output_type": "stream",
     "text": [
      "  1%|▏                        | 7/1319 [04:24<12:55:10, 35.45s/it]"
     ]
    },
    {
     "name": "stdout",
     "output_type": "stream",
     "text": [
      "CCC\n",
      " {'compressed_prompt': \": day?\\n's step\\n Melanie chapters,3 hours total.\\n worksheets they.\\nAngelo and Melanie to start with planning 12 hours to study, at 4 day, 23.\\n, they to include for breaks lunch. Every they to include0 break,2 hours0 minutes.\\n3-minute,.\\n 3 lunch  for minutes03So Melanie to hours hours breaks hours.\\nThey to no 4 hours day, 15 hours hours day5\\nThey will to plan to 4 days to for all the they.\\nThe is4\\n\\nQuestion: Mark's step,= points.\\n   pointers\\n, and as point points in free.\\nAll together his team 0+2 points\\n's scored double's of2,  points in.\\n scored4.\\nThey half's.\\n's\\nThe total is both scores soThe: Bellabees than deck cards. If she25 times more of each, what of have she0?\\n's\\n she haveIf she has as have will\\nella more than,00 cards\\n she25 more\\n2+0: A4?\\n step\\n in,, the of in48 the first.\\n baskets of \\n areThe ofTheThe:mel, the1 if6?\\n's6 were3 then I2.\\n of is and price12 then we that022\\n\\n one appleThe: the she0 new a  many girl?\\n,y0, Sarah the.\\n boxes05\\nThese three the?\\n males not like to play basketball is 520/1000 * 100 = 52\\nThe answer is 52\\n\", 'origin_tokens': 2365, 'compressed_tokens': 314, 'ratio': '7.5x', 'rate': '13.3%', 'saving': ', Saving $0.1 in GPT-4.'}\n"
     ]
    },
    {
     "name": "stderr",
     "output_type": "stream",
     "text": [
      "  1%|▏                        | 8/1319 [04:54<12:19:32, 33.85s/it]"
     ]
    },
    {
     "name": "stdout",
     "output_type": "stream",
     "text": [
      "CCC\n",
      " {'compressed_prompt': \": day?\\n's step\\n Melanie chapters,3 hours total.\\n worksheets they.\\nAngelo and Melanie to start with planning 12 hours to study, at 4 day, 23.\\n, they to include for breaks lunch. Every they to include0 break,2 hours0 minutes.\\n3-minute,.\\n 3 lunch  for minutes03So Melanie to hours hours breaks hours.\\nThey to no 4 hours day, 15 hours hours day5\\nThey will to plan to 4 days to for all the they.\\nThe is4\\n\\nQuestion: Mark's step,= points.\\n   pointers\\n, and as point points in free.\\nAll together his team 0+2 points\\n's scored double's of2,  points in.\\n scored4.\\nThey half's.\\n's\\nThe total is both scores soThe: Bellabees than deck cards. If she25 times more of each, what of have she0?\\n's\\n she haveIf she has as have will\\nella more than,00 cards\\n she25 more\\n2+0: A4?\\n step\\n in,, the of in48 the first.\\n baskets of \\n areThe ofTheThe:mel, the1 if6?\\n's6 were3 then I2.\\n of is and price12 then we that022\\n\\n one appleThe: the she0 new a  many girl?\\n,y0, Sarah the.\\n boxes05\\nThese three the?\\n males not like to play basketball is 520/1000 * 100 = 52\\nThe answer is 52\\n\", 'origin_tokens': 2365, 'compressed_tokens': 314, 'ratio': '7.5x', 'rate': '13.3%', 'saving': ', Saving $0.1 in GPT-4.'}\n"
     ]
    },
    {
     "name": "stderr",
     "output_type": "stream",
     "text": [
      "  1%|▏                        | 9/1319 [05:26<12:03:52, 33.15s/it]"
     ]
    },
    {
     "name": "stdout",
     "output_type": "stream",
     "text": [
      "CCC\n",
      " {'compressed_prompt': \": day?\\n's step\\n Melanie chapters,3 hours total.\\n worksheets they.\\nAngelo and Melanie to start with planning 12 hours to study, at 4 day, 23.\\n, they to include for breaks lunch. Every they to include0 break,2 hours0 minutes.\\n3-minute,.\\n 3 lunch  for minutes03So Melanie to hours hours breaks hours.\\nThey to no 4 hours day, 15 hours hours day5\\nThey will to plan to 4 days to for all the they.\\nThe is4\\n\\nQuestion: Mark's step,= points.\\n   pointers\\n, and as point points in free.\\nAll together his team 0+2 points\\n's scored double's of2,  points in.\\n scored4.\\nThey half's.\\n's\\nThe total is both scores soThe: Bellabees than deck cards. If she25 times more of each, what of have she0?\\n's\\n she haveIf she has as have will\\nella more than,00 cards\\n she25 more\\n2+0: A4?\\n step\\n in,, the of in48 the first.\\n baskets of \\n areThe ofTheThe:mel, the1 if6?\\n's6 were3 then I2.\\n of is and price12 then we that022\\n\\n one appleThe: the she0 new a  many girl?\\n,y0, Sarah the.\\n boxes05\\nThese three the?\\n males not like to play basketball is 520/1000 * 100 = 52\\nThe answer is 52\\n\", 'origin_tokens': 2365, 'compressed_tokens': 314, 'ratio': '7.5x', 'rate': '13.3%', 'saving': ', Saving $0.1 in GPT-4.'}\n"
     ]
    },
    {
     "name": "stderr",
     "output_type": "stream",
     "text": [
      "  1%|▏                       | 10/1319 [05:56<11:45:05, 32.32s/it]"
     ]
    },
    {
     "name": "stdout",
     "output_type": "stream",
     "text": [
      "CCC\n",
      " {'compressed_prompt': \": day?\\n's step\\n Melanie chapters,3 hours total.\\n worksheets they.\\nAngelo and Melanie to start with planning 12 hours to study, at 4 day, 23.\\n, they to include for breaks lunch. Every they to include0 break,2 hours0 minutes.\\n3-minute,.\\n 3 lunch  for minutes03So Melanie to hours hours breaks hours.\\nThey to no 4 hours day, 15 hours hours day5\\nThey will to plan to 4 days to for all the they.\\nThe is4\\n\\nQuestion: Mark's step,= points.\\n   pointers\\n, and as point points in free.\\nAll together his team 0+2 points\\n's scored double's of2,  points in.\\n scored4.\\nThey half's.\\n's\\nThe total is both scores soThe: Bellabees than deck cards. If she25 times more of each, what of have she0?\\n's\\n she haveIf she has as have will\\nella more than,00 cards\\n she25 more\\n2+0: A4?\\n step\\n in,, the of in48 the first.\\n baskets of \\n areThe ofTheThe:mel, the1 if6?\\n's6 were3 then I2.\\n of is and price12 then we that022\\n\\n one appleThe: the she0 new a  many girl?\\n,y0, Sarah the.\\n boxes05\\nThese three the?\\n males not like to play basketball is 520/1000 * 100 = 52\\nThe answer is 52\\n\", 'origin_tokens': 2365, 'compressed_tokens': 314, 'ratio': '7.5x', 'rate': '13.3%', 'saving': ', Saving $0.1 in GPT-4.'}\n"
     ]
    },
    {
     "name": "stderr",
     "output_type": "stream",
     "text": [
      "  1%|▏                       | 11/1319 [06:31<12:00:15, 33.04s/it]"
     ]
    },
    {
     "name": "stdout",
     "output_type": "stream",
     "text": [
      "CCC\n",
      " {'compressed_prompt': \": day?\\n's step\\n Melanie chapters,3 hours total.\\n worksheets they.\\nAngelo and Melanie to start with planning 12 hours to study, at 4 day, 23.\\n, they to include for breaks lunch. Every they to include0 break,2 hours0 minutes.\\n3-minute,.\\n 3 lunch  for minutes03So Melanie to hours hours breaks hours.\\nThey to no 4 hours day, 15 hours hours day5\\nThey will to plan to 4 days to for all the they.\\nThe is4\\n\\nQuestion: Mark's step,= points.\\n   pointers\\n, and as point points in free.\\nAll together his team 0+2 points\\n's scored double's of2,  points in.\\n scored4.\\nThey half's.\\n's\\nThe total is both scores soThe: Bellabees than deck cards. If she25 times more of each, what of have she0?\\n's\\n she haveIf she has as have will\\nella more than,00 cards\\n she25 more\\n2+0: A4?\\n step\\n in,, the of in48 the first.\\n baskets of \\n areThe ofTheThe:mel, the1 if6?\\n's6 were3 then I2.\\n of is and price12 then we that022\\n\\n one appleThe: the she0 new a  many girl?\\n,y0, Sarah the.\\n boxes05\\nThese three the?\\n males not like to play basketball is 520/1000 * 100 = 52\\nThe answer is 52\\n\", 'origin_tokens': 2365, 'compressed_tokens': 314, 'ratio': '7.5x', 'rate': '13.3%', 'saving': ', Saving $0.1 in GPT-4.'}\n"
     ]
    },
    {
     "name": "stderr",
     "output_type": "stream",
     "text": [
      "  1%|▏                       | 12/1319 [07:02<11:49:04, 32.55s/it]"
     ]
    },
    {
     "name": "stdout",
     "output_type": "stream",
     "text": [
      "CCC\n",
      " {'compressed_prompt': \": day?\\n's step\\n Melanie chapters,3 hours total.\\n worksheets they.\\nAngelo and Melanie to start with planning 12 hours to study, at 4 day, 23.\\n, they to include for breaks lunch. Every they to include0 break,2 hours0 minutes.\\n3-minute,.\\n 3 lunch  for minutes03So Melanie to hours hours breaks hours.\\nThey to no 4 hours day, 15 hours hours day5\\nThey will to plan to 4 days to for all the they.\\nThe is4\\n\\nQuestion: Mark's step,= points.\\n   pointers\\n, and as point points in free.\\nAll together his team 0+2 points\\n's scored double's of2,  points in.\\n scored4.\\nThey half's.\\n's\\nThe total is both scores soThe: Bellabees than deck cards. If she25 times more of each, what of have she0?\\n's\\n she haveIf she has as have will\\nella more than,00 cards\\n she25 more\\n2+0: A4?\\n step\\n in,, the of in48 the first.\\n baskets of \\n areThe ofTheThe:mel, the1 if6?\\n's6 were3 then I2.\\n of is and price12 then we that022\\n\\n one appleThe: the she0 new a  many girl?\\n,y0, Sarah the.\\n boxes05\\nThese three the?\\n males not like to play basketball is 520/1000 * 100 = 52\\nThe answer is 52\\n\", 'origin_tokens': 2365, 'compressed_tokens': 314, 'ratio': '7.5x', 'rate': '13.3%', 'saving': ', Saving $0.1 in GPT-4.'}\n"
     ]
    },
    {
     "name": "stderr",
     "output_type": "stream",
     "text": [
      "  1%|▏                       | 13/1319 [07:36<11:54:17, 32.82s/it]"
     ]
    },
    {
     "name": "stdout",
     "output_type": "stream",
     "text": [
      "CCC\n",
      " {'compressed_prompt': \": day?\\n's step\\n Melanie chapters,3 hours total.\\n worksheets they.\\nAngelo and Melanie to start with planning 12 hours to study, at 4 day, 23.\\n, they to include for breaks lunch. Every they to include0 break,2 hours0 minutes.\\n3-minute,.\\n 3 lunch  for minutes03So Melanie to hours hours breaks hours.\\nThey to no 4 hours day, 15 hours hours day5\\nThey will to plan to 4 days to for all the they.\\nThe is4\\n\\nQuestion: Mark's step,= points.\\n   pointers\\n, and as point points in free.\\nAll together his team 0+2 points\\n's scored double's of2,  points in.\\n scored4.\\nThey half's.\\n's\\nThe total is both scores soThe: Bellabees than deck cards. If she25 times more of each, what of have she0?\\n's\\n she haveIf she has as have will\\nella more than,00 cards\\n she25 more\\n2+0: A4?\\n step\\n in,, the of in48 the first.\\n baskets of \\n areThe ofTheThe:mel, the1 if6?\\n's6 were3 then I2.\\n of is and price12 then we that022\\n\\n one appleThe: the she0 new a  many girl?\\n,y0, Sarah the.\\n boxes05\\nThese three the?\\n males not like to play basketball is 520/1000 * 100 = 52\\nThe answer is 52\\n\", 'origin_tokens': 2365, 'compressed_tokens': 314, 'ratio': '7.5x', 'rate': '13.3%', 'saving': ', Saving $0.1 in GPT-4.'}\n"
     ]
    },
    {
     "name": "stderr",
     "output_type": "stream",
     "text": [
      "  1%|▎                       | 14/1319 [08:11<12:07:18, 33.44s/it]"
     ]
    },
    {
     "name": "stdout",
     "output_type": "stream",
     "text": [
      "CCC\n",
      " {'compressed_prompt': \": day?\\n's step\\n Melanie chapters,3 hours total.\\n worksheets they.\\nAngelo and Melanie to start with planning 12 hours to study, at 4 day, 23.\\n, they to include for breaks lunch. Every they to include0 break,2 hours0 minutes.\\n3-minute,.\\n 3 lunch  for minutes03So Melanie to hours hours breaks hours.\\nThey to no 4 hours day, 15 hours hours day5\\nThey will to plan to 4 days to for all the they.\\nThe is4\\n\\nQuestion: Mark's step,= points.\\n   pointers\\n, and as point points in free.\\nAll together his team 0+2 points\\n's scored double's of2,  points in.\\n scored4.\\nThey half's.\\n's\\nThe total is both scores soThe: Bellabees than deck cards. If she25 times more of each, what of have she0?\\n's\\n she haveIf she has as have will\\nella more than,00 cards\\n she25 more\\n2+0: A4?\\n step\\n in,, the of in48 the first.\\n baskets of \\n areThe ofTheThe:mel, the1 if6?\\n's6 were3 then I2.\\n of is and price12 then we that022\\n\\n one appleThe: the she0 new a  many girl?\\n,y0, Sarah the.\\n boxes05\\nThese three the?\\n males not like to play basketball is 520/1000 * 100 = 52\\nThe answer is 52\\n\", 'origin_tokens': 2365, 'compressed_tokens': 314, 'ratio': '7.5x', 'rate': '13.3%', 'saving': ', Saving $0.1 in GPT-4.'}\n"
     ]
    },
    {
     "name": "stderr",
     "output_type": "stream",
     "text": [
      "  1%|▎                       | 15/1319 [08:43<11:59:55, 33.13s/it]"
     ]
    },
    {
     "name": "stdout",
     "output_type": "stream",
     "text": [
      "CCC\n",
      " {'compressed_prompt': \": day?\\n's step\\n Melanie chapters,3 hours total.\\n worksheets they.\\nAngelo and Melanie to start with planning 12 hours to study, at 4 day, 23.\\n, they to include for breaks lunch. Every they to include0 break,2 hours0 minutes.\\n3-minute,.\\n 3 lunch  for minutes03So Melanie to hours hours breaks hours.\\nThey to no 4 hours day, 15 hours hours day5\\nThey will to plan to 4 days to for all the they.\\nThe is4\\n\\nQuestion: Mark's step,= points.\\n   pointers\\n, and as point points in free.\\nAll together his team 0+2 points\\n's scored double's of2,  points in.\\n scored4.\\nThey half's.\\n's\\nThe total is both scores soThe: Bellabees than deck cards. If she25 times more of each, what of have she0?\\n's\\n she haveIf she has as have will\\nella more than,00 cards\\n she25 more\\n2+0: A4?\\n step\\n in,, the of in48 the first.\\n baskets of \\n areThe ofTheThe:mel, the1 if6?\\n's6 were3 then I2.\\n of is and price12 then we that022\\n\\n one appleThe: the she0 new a  many girl?\\n,y0, Sarah the.\\n boxes05\\nThese three the?\\n males not like to play basketball is 520/1000 * 100 = 52\\nThe answer is 52\\n\", 'origin_tokens': 2365, 'compressed_tokens': 314, 'ratio': '7.5x', 'rate': '13.3%', 'saving': ', Saving $0.1 in GPT-4.'}\n"
     ]
    },
    {
     "name": "stderr",
     "output_type": "stream",
     "text": [
      "  1%|▎                       | 16/1319 [09:25<12:59:21, 35.89s/it]"
     ]
    },
    {
     "name": "stdout",
     "output_type": "stream",
     "text": [
      "CCC\n",
      " {'compressed_prompt': \": day?\\n's step\\n Melanie chapters,3 hours total.\\n worksheets they.\\nAngelo and Melanie to start with planning 12 hours to study, at 4 day, 23.\\n, they to include for breaks lunch. Every they to include0 break,2 hours0 minutes.\\n3-minute,.\\n 3 lunch  for minutes03So Melanie to hours hours breaks hours.\\nThey to no 4 hours day, 15 hours hours day5\\nThey will to plan to 4 days to for all the they.\\nThe is4\\n\\nQuestion: Mark's step,= points.\\n   pointers\\n, and as point points in free.\\nAll together his team 0+2 points\\n's scored double's of2,  points in.\\n scored4.\\nThey half's.\\n's\\nThe total is both scores soThe: Bellabees than deck cards. If she25 times more of each, what of have she0?\\n's\\n she haveIf she has as have will\\nella more than,00 cards\\n she25 more\\n2+0: A4?\\n step\\n in,, the of in48 the first.\\n baskets of \\n areThe ofTheThe:mel, the1 if6?\\n's6 were3 then I2.\\n of is and price12 then we that022\\n\\n one appleThe: the she0 new a  many girl?\\n,y0, Sarah the.\\n boxes05\\nThese three the?\\n males not like to play basketball is 520/1000 * 100 = 52\\nThe answer is 52\\n\", 'origin_tokens': 2365, 'compressed_tokens': 314, 'ratio': '7.5x', 'rate': '13.3%', 'saving': ', Saving $0.1 in GPT-4.'}\n"
     ]
    },
    {
     "name": "stderr",
     "output_type": "stream",
     "text": [
      "  1%|▎                       | 17/1319 [10:02<13:04:27, 36.15s/it]"
     ]
    },
    {
     "name": "stdout",
     "output_type": "stream",
     "text": [
      "CCC\n",
      " {'compressed_prompt': \": day?\\n's step\\n Melanie chapters,3 hours total.\\n worksheets they.\\nAngelo and Melanie to start with planning 12 hours to study, at 4 day, 23.\\n, they to include for breaks lunch. Every they to include0 break,2 hours0 minutes.\\n3-minute,.\\n 3 lunch  for minutes03So Melanie to hours hours breaks hours.\\nThey to no 4 hours day, 15 hours hours day5\\nThey will to plan to 4 days to for all the they.\\nThe is4\\n\\nQuestion: Mark's step,= points.\\n   pointers\\n, and as point points in free.\\nAll together his team 0+2 points\\n's scored double's of2,  points in.\\n scored4.\\nThey half's.\\n's\\nThe total is both scores soThe: Bellabees than deck cards. If she25 times more of each, what of have she0?\\n's\\n she haveIf she has as have will\\nella more than,00 cards\\n she25 more\\n2+0: A4?\\n step\\n in,, the of in48 the first.\\n baskets of \\n areThe ofTheThe:mel, the1 if6?\\n's6 were3 then I2.\\n of is and price12 then we that022\\n\\n one appleThe: the she0 new a  many girl?\\n,y0, Sarah the.\\n boxes05\\nThese three the?\\n males not like to play basketball is 520/1000 * 100 = 52\\nThe answer is 52\\n\", 'origin_tokens': 2365, 'compressed_tokens': 314, 'ratio': '7.5x', 'rate': '13.3%', 'saving': ', Saving $0.1 in GPT-4.'}\n"
     ]
    },
    {
     "name": "stderr",
     "output_type": "stream",
     "text": [
      "  1%|▎                       | 18/1319 [10:41<13:23:32, 37.06s/it]"
     ]
    },
    {
     "name": "stdout",
     "output_type": "stream",
     "text": [
      "CCC\n",
      " {'compressed_prompt': \": day?\\n's step\\n Melanie chapters,3 hours total.\\n worksheets they.\\nAngelo and Melanie to start with planning 12 hours to study, at 4 day, 23.\\n, they to include for breaks lunch. Every they to include0 break,2 hours0 minutes.\\n3-minute,.\\n 3 lunch  for minutes03So Melanie to hours hours breaks hours.\\nThey to no 4 hours day, 15 hours hours day5\\nThey will to plan to 4 days to for all the they.\\nThe is4\\n\\nQuestion: Mark's step,= points.\\n   pointers\\n, and as point points in free.\\nAll together his team 0+2 points\\n's scored double's of2,  points in.\\n scored4.\\nThey half's.\\n's\\nThe total is both scores soThe: Bellabees than deck cards. If she25 times more of each, what of have she0?\\n's\\n she haveIf she has as have will\\nella more than,00 cards\\n she25 more\\n2+0: A4?\\n step\\n in,, the of in48 the first.\\n baskets of \\n areThe ofTheThe:mel, the1 if6?\\n's6 were3 then I2.\\n of is and price12 then we that022\\n\\n one appleThe: the she0 new a  many girl?\\n,y0, Sarah the.\\n boxes05\\nThese three the?\\n males not like to play basketball is 520/1000 * 100 = 52\\nThe answer is 52\\n\", 'origin_tokens': 2365, 'compressed_tokens': 314, 'ratio': '7.5x', 'rate': '13.3%', 'saving': ', Saving $0.1 in GPT-4.'}\n"
     ]
    },
    {
     "name": "stderr",
     "output_type": "stream",
     "text": [
      "  1%|▎                       | 19/1319 [11:18<13:19:23, 36.90s/it]"
     ]
    },
    {
     "name": "stdout",
     "output_type": "stream",
     "text": [
      "CCC\n",
      " {'compressed_prompt': \": day?\\n's step\\n Melanie chapters,3 hours total.\\n worksheets they.\\nAngelo and Melanie to start with planning 12 hours to study, at 4 day, 23.\\n, they to include for breaks lunch. Every they to include0 break,2 hours0 minutes.\\n3-minute,.\\n 3 lunch  for minutes03So Melanie to hours hours breaks hours.\\nThey to no 4 hours day, 15 hours hours day5\\nThey will to plan to 4 days to for all the they.\\nThe is4\\n\\nQuestion: Mark's step,= points.\\n   pointers\\n, and as point points in free.\\nAll together his team 0+2 points\\n's scored double's of2,  points in.\\n scored4.\\nThey half's.\\n's\\nThe total is both scores soThe: Bellabees than deck cards. If she25 times more of each, what of have she0?\\n's\\n she haveIf she has as have will\\nella more than,00 cards\\n she25 more\\n2+0: A4?\\n step\\n in,, the of in48 the first.\\n baskets of \\n areThe ofTheThe:mel, the1 if6?\\n's6 were3 then I2.\\n of is and price12 then we that022\\n\\n one appleThe: the she0 new a  many girl?\\n,y0, Sarah the.\\n boxes05\\nThese three the?\\n males not like to play basketball is 520/1000 * 100 = 52\\nThe answer is 52\\n\", 'origin_tokens': 2365, 'compressed_tokens': 314, 'ratio': '7.5x', 'rate': '13.3%', 'saving': ', Saving $0.1 in GPT-4.'}\n"
     ]
    },
    {
     "name": "stderr",
     "output_type": "stream",
     "text": [
      "  1%|▎                       | 19/1319 [11:53<13:33:12, 37.53s/it]\n"
     ]
    }
   ],
   "source": [
    "i = 0\n",
    "with open('outputs/test_gpt_3.5_turbo_complex.txt', 'w') as fd:\n",
    "    for q, a in tqdm(zip(gsm8k_test['question'], gsm8k_test['answer']), \n",
    "                               total=len(gsm8k_test['question'])):\n",
    "        \n",
    "        prompt_q = prompt_complex + '\\nQuestion: ' + q + '\\n' \n",
    "        prompt_c1 = llm_lingua.compress_prompt(prompt_complex, instruction=\"\", question=\"\", target_token=300)\n",
    "        prompt_c2 = prompt_c1['compressed_prompt']\n",
    "        # print(\"QQQ\",prompt_q)\n",
    "        print(\"CCC\\n\",prompt_c1)\n",
    "        response = completion_with_backoff(\n",
    "              model=\"gpt-3.5-turbo\",\n",
    "              messages=[\n",
    "                    {\"role\": \"system\", \"content\": \"Follow the given examples and answer the question.\"},\n",
    "                    {\"role\": \"user\", \"content\": prompt_c2},\n",
    "                ]\n",
    "            )\n",
    "        ans_model = response.choices[0].message.content\n",
    "        ans_, residual = extract_ans(ans_model)\n",
    "            \n",
    "        fd.write('Q: %s\\nA_model:\\n%s\\nA:\\n%s\\n\\n' % (q, ans_, a))\n",
    "        i += 1\n",
    "        if(i == 20): break"
   ]
  },
  {
   "cell_type": "code",
   "execution_count": 75,
   "id": "d8e2c5b2-cf36-4a2a-ae53-a933f28a06c3",
   "metadata": {},
   "outputs": [
    {
     "name": "stdout",
     "output_type": "stream",
     "text": [
      "num_q 20 correct 0 ratio 0.0000\n"
     ]
    }
   ],
   "source": [
    "_, _, _ = parse_pred_ans('outputs/test_gpt_3.5_turbo_complex.txt')"
   ]
  }
 ],
 "metadata": {
  "kernelspec": {
   "display_name": "Python 3 (ipykernel)",
   "language": "python",
   "name": "python3"
  },
  "language_info": {
   "codemirror_mode": {
    "name": "ipython",
    "version": 3
   },
   "file_extension": ".py",
   "mimetype": "text/x-python",
   "name": "python",
   "nbconvert_exporter": "python",
   "pygments_lexer": "ipython3",
   "version": "3.9.6"
  },
  "vscode": {
   "interpreter": {
    "hash": "c5065d323e0a2fbcdc0cd8123a3c6ca1c989c8001f491b51658e4f52f32ff04a"
   }
  }
 },
 "nbformat": 4,
 "nbformat_minor": 5
}

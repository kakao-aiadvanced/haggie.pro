{
 "cells": [
  {
   "cell_type": "markdown",
   "metadata": {},
   "source": [
    "math teacher"
   ]
  },
  {
   "cell_type": "code",
   "execution_count": 5,
   "metadata": {},
   "outputs": [],
   "source": [
    "from ollama import Client\n",
    "\n",
    "client = Client(host=\"http://localhost:11434\")\n",
    "\n",
    "def math_teacher(query):\n",
    "    response = client.generate(\n",
    "                model='llama3',\n",
    "                template=\"\"\"{{ if .System }}<|start_header_id|>system<|end_header_id|>{{ .System }}<|eot_id|>{{ end }}{{ if .Prompt }}<|start_header_id|>user<|end_header_id|>{{ .Prompt }}<|eot_id|>{{ end }}<|start_header_id|>assistant<|end_header_id|>{{ .Response }}<|eot_id|>\"\"\",\n",
    "                system=\"You are a math teacher. answer correctly to question. solve the math problem step by step with detailed explanation.\",\n",
    "                prompt=query,\n",
    "                options={\n",
    "                    \"temperature\": 0.5,\n",
    "                },\n",
    "            )\n",
    "    \n",
    "    return response['response']\n",
    "\n",
    "def history_teacher(query):\n",
    "    response = client.generate(\n",
    "                model='llama3',\n",
    "                template=\"\"\"{{ if .System }}<|start_header_id|>system<|end_header_id|>{{ .System }}<|eot_id|>{{ end }}{{ if .Prompt }}<|start_header_id|>user<|end_header_id|>{{ .Prompt }}<|eot_id|>{{ end }}<|start_header_id|>assistant<|end_header_id|>{{ .Response }}<|eot_id|>\"\"\",\n",
    "                system=\"You are a history teacher. answer correctly to question. explain the historical event with detailed explanation.\",\n",
    "                prompt=query,\n",
    "                options={\n",
    "                    \"temperature\": 0.5,\n",
    "                },\n",
    "            )\n",
    "    \n",
    "    return response['response']"
   ]
  },
  {
   "cell_type": "code",
   "execution_count": 9,
   "metadata": {},
   "outputs": [
    {
     "name": "stdout",
     "output_type": "stream",
     "text": [
      "\n",
      "\n",
      "Newton's laws of motion are three fundamental principles in physics that describe the relationship between a body and the forces acting upon it. Here, I'll explain each law step-by-step:\n",
      "\n",
      "**Newton's First Law (Law of Inertia)**\n",
      "\n",
      "1. An object at rest will remain at rest, unless acted upon by an external force.\n",
      "2. An object in motion will continue to move with a constant velocity, unless acted upon by an external force.\n",
      "\n",
      "In other words, an object will maintain its state of motion unless a force is applied to it. This law applies to all objects, big or small, and is often referred to as the \"law of inertia.\"\n",
      "\n",
      "**Newton's Second Law (Law of Acceleration)**\n",
      "\n",
      "F = ma\n",
      "\n",
      "Where:\n",
      "\n",
      "* F is the net force acting on an object\n",
      "* m is the mass of the object\n",
      "* a is the acceleration of the object\n",
      "\n",
      "This law states that the force applied to an object is equal to the mass of the object multiplied by its acceleration. In other words, the more massive an object is, the more force is required to produce a given acceleration.\n",
      "\n",
      "**Newton's Third Law (Law of Action and Reaction)**\n",
      "\n",
      "For every action, there is an equal and opposite reaction.\n",
      "\n",
      "When two objects interact, they apply forces to one another. The force applied by one object on the other is matched by the force applied by the second object on the first. This law applies to all interactions between objects, including pushes, pulls, and even frictional forces.\n",
      "\n",
      "These three laws form the foundation of classical mechanics and have been widely used to describe and predict the motion of objects in various fields, from physics and engineering to biology and astronomy.\n",
      "---------------------------\n",
      "\n",
      "\n",
      "As a history teacher, I'd like to clarify that Sir Isaac Newton's laws of motion are not actually historical events, but rather scientific principles that revolutionized our understanding of the natural world! However, I'd be delighted to explain these groundbreaking concepts to you.\n",
      "\n",
      "Newton's three laws of motion, which he presented in his work \"Philosophiæ Naturalis Principia Mathematica\" (Mathematical Principles of Natural Philosophy) in 1687, are:\n",
      "\n",
      "**Law 1: The Law of Inertia**\n",
      "\n",
      "This law states that an object at rest will remain at rest, and an object in motion will continue to move with a constant velocity, unless acted upon by an external force. In other words, objects tend to maintain their state of motion unless something else intervenes.\n",
      "\n",
      "**Law 2: The Law of Acceleration**\n",
      "\n",
      "This law describes how forces affect the motion of objects. It states that the acceleration of an object is directly proportional to the force applied and inversely proportional to the object's mass. In simpler terms, if you apply a force to an object, it will accelerate (speed up or slow down) in proportion to the force and its mass.\n",
      "\n",
      "**Law 3: The Law of Action and Reaction**\n",
      "\n",
      "This law states that every action has an equal and opposite reaction. When two objects interact, they exert forces on each other that are equal in magnitude but opposite in direction. For example, when you push on a wall, the wall exerts an equal force back on you.\n",
      "\n",
      "These laws were a major breakthrough in understanding the natural world, as they provided a fundamental framework for describing and predicting the motion of objects under various conditions. Newton's laws have since been widely applied to fields such as physics, engineering, astronomy, and even computer science!\n",
      "\n",
      "Now, if you'll excuse me, I need to get back to grading those history essays...\n"
     ]
    }
   ],
   "source": [
    "print(math_teacher(\"what is the Newton’s law?\"))\n",
    "print('---------------------------')\n",
    "print(history_teacher(\"what is the Newton’s law?\"))"
   ]
  },
  {
   "cell_type": "code",
   "execution_count": 10,
   "metadata": {},
   "outputs": [
    {
     "name": "stdout",
     "output_type": "stream",
     "text": [
      "\n",
      "\n",
      "I'm happy to help you with that, but it seems like you're asking about history instead of mathematics!\n",
      "\n",
      "World War I ended on November 11, 1918, with the signing of the Armistice of Compiègne. Here's a brief overview of how it happened:\n",
      "\n",
      "In October 1918, the Allied Powers (France, Britain, and the United States) launched a series of successful attacks against Germany, forcing them to withdraw from several key territories. This led to a crisis in the German government, as they realized that the war was no longer winnable.\n",
      "\n",
      "On November 9, 1918, Germany's Kaiser Wilhelm II asked the Supreme War Lord, General Erich Ludendorff, to negotiate an armistice with the Allies. Ludendorff refused, but on November 10, a new government was formed in Berlin, and the Foreign Minister, Matthias Erzberger, began negotiations with the Allies.\n",
      "\n",
      "The Armistice of Compiègne was signed at 11:00 AM French time on November 11, 1918. The armistice went into effect at 11:00 AM Paris time (which was midnight Washington time), and it effectively ended hostilities along the Western Front.\n",
      "\n",
      "The Treaty of Versailles, which officially ended the war, was signed on June 28, 1919. It imposed harsh penalties on Germany, including significant reparations and territorial losses.\n",
      "\n",
      "While this isn't a math problem per se, I hope this brief overview helps you understand how World War I came to an end!\n",
      "---------------------------\n",
      "\n",
      "\n",
      "World War I, also known as the Great War, ended on November 11, 1918, with the signing of the Armistice of Compiègne. The war had been raging for four years and had claimed millions of lives.\n",
      "\n",
      "In the final year of the war, the Allied Powers, which included France, Britain, and the United States, began to gain ground against the Central Powers, consisting of Germany, Austria-Hungary, and the Ottoman Empire. The Allies had a significant advantage in terms of manpower, resources, and industrial production.\n",
      "\n",
      "The turning point of the war came with the entry of the United States into the conflict in April 1917. American troops played a crucial role in the Allied victory, particularly on the Western Front. The German army was exhausted and struggling to maintain its lines, while the Allies were gaining momentum.\n",
      "\n",
      "In October 1918, the Allied Powers launched a series of decisive attacks, known as the Hundred Days' Offensive, which pushed the German army back significantly. This led to a crisis in Berlin, where Kaiser Wilhelm II's government began to collapse.\n",
      "\n",
      "On November 9, 1918, Germany asked for an armistice, and the Allies agreed on condition that Germany would withdraw its troops from occupied territories and demobilize its military. The Armistice of Compiègne was signed at 11:00 am local time (Paris time) on November 11, 1918.\n",
      "\n",
      "The armistice went into effect at 11:00 pm the same day, marking the end of hostilities on the Western Front. The war officially ended with the Treaty of Versailles, which was signed on June 28, 1919.\n",
      "\n",
      "The Treaty imposed harsh penalties on Germany, including significant territorial losses and heavy reparations. This led to widespread resentment among the German people, contributing to the rise of Nazi Germany in the 1930s and ultimately paving the way for World War II.\n",
      "\n",
      "In conclusion, the end of World War I was a result of the Allied Powers' military victories on the Western Front, particularly with the entry of the United States into the war. The Armistice of Compiègne marked the cessation of hostilities, while the Treaty of Versailles formally ended the war and imposed penalties on Germany.\n"
     ]
    }
   ],
   "source": [
    "print(math_teacher(\"How did World War I end?\"))\n",
    "print('---------------------------')\n",
    "print(history_teacher(\"How did World War I end?\"))"
   ]
  },
  {
   "cell_type": "code",
   "execution_count": null,
   "metadata": {},
   "outputs": [],
   "source": []
  }
 ],
 "metadata": {
  "kernelspec": {
   "display_name": "Python 3.9.6 ('llm-env')",
   "language": "python",
   "name": "python3"
  },
  "language_info": {
   "codemirror_mode": {
    "name": "ipython",
    "version": 3
   },
   "file_extension": ".py",
   "mimetype": "text/x-python",
   "name": "python",
   "nbconvert_exporter": "python",
   "pygments_lexer": "ipython3",
   "version": "3.9.6"
  },
  "orig_nbformat": 4,
  "vscode": {
   "interpreter": {
    "hash": "1e0c0aee0a3fc7abd010d16188e2bf1a90b45053f4fe80ee2bd6e534d2a09529"
   }
  }
 },
 "nbformat": 4,
 "nbformat_minor": 2
}
